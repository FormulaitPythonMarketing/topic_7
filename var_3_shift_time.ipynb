{
  "nbformat": 4,
  "nbformat_minor": 0,
  "metadata": {
    "colab": {
      "provenance": [],
      "authorship_tag": "ABX9TyOFizMYkkKhyHhO4XCK/lw7",
      "include_colab_link": true
    },
    "kernelspec": {
      "name": "python3",
      "display_name": "Python 3"
    },
    "language_info": {
      "name": "python"
    }
  },
  "cells": [
    {
      "cell_type": "markdown",
      "metadata": {
        "id": "view-in-github",
        "colab_type": "text"
      },
      "source": [
        "<a href=\"https://colab.research.google.com/github/FormulaitPythonMarketing/topic_7/blob/main/var_3_shift_time.ipynb\" target=\"_parent\"><img src=\"https://colab.research.google.com/assets/colab-badge.svg\" alt=\"Open In Colab\"/></a>"
      ]
    },
    {
      "cell_type": "code",
      "execution_count": 2,
      "metadata": {
        "id": "Qdwfsu8MiGrX"
      },
      "outputs": [],
      "source": [
        "from typing import List, Any\n",
        "import datetime\n",
        "\n",
        "\n",
        "def check_input(input_data: List[Any]) -> bool:\n",
        "    if not isinstance(input_data, list):\n",
        "        return False\n",
        "\n",
        "    if len(input_data) != 2:\n",
        "        return False\n",
        "\n",
        "    input_time = input_data[0]\n",
        "    N = input_data[1]\n",
        "    sign = '.'\n",
        "\n",
        "    # первый вариант валидации времени\n",
        "    if not isinstance(input_time, str):\n",
        "        return False\n",
        "    if sign not in input_time:\n",
        "        return False\n",
        "\n",
        "    hour_minute = watch.split(sign)\n",
        "    if len(hour_minute) != 2:\n",
        "        return False\n",
        "\n",
        "    for number in hour_minute:\n",
        "        if not number.isdigit():\n",
        "            return False\n",
        "\n",
        "    if (int(hour_minute[0]) > 23) or (int(hour_minute[1]) > 59):\n",
        "        return False\n",
        "\n",
        "    ## второй вариант валидации времени\n",
        "    # try:\n",
        "    #     datetime.datetime.strptime(input_time, '%H.%M')\n",
        "    # except:\n",
        "    #     return False\n",
        "\n",
        "    if isinstance(N, int) and (N > 0):\n",
        "        return True\n",
        "\n",
        "    return False\n"
      ]
    },
    {
      "cell_type": "code",
      "source": [
        "def calculate_time(valid_list: List[Any]) -> str:\n",
        "    format = '%H.%M'\n",
        "    input_time = datetime.datetime.strptime(valid_list[0], format)\n",
        "    N = valid_list[1]\n",
        "    result = input_time + datetime.timedelta(hours=N, minutes=N)\n",
        "    return datetime.datetime.strftime(result, format)"
      ],
      "metadata": {
        "id": "LpxVjFulBFnx"
      },
      "execution_count": 4,
      "outputs": []
    },
    {
      "cell_type": "code",
      "source": [
        "def main(input_list: List[List[Any]]) -> None:\n",
        "    valid_list = []\n",
        "    for val in input_list:\n",
        "        if check_input(val):\n",
        "            valid_list = val\n",
        "            break\n",
        "    res = calculate_time(valid_list)\n",
        "    print(res)"
      ],
      "metadata": {
        "id": "ftKSJnhOBFcr"
      },
      "execution_count": 6,
      "outputs": []
    },
    {
      "cell_type": "code",
      "source": [
        "test_data = [['11', 8], ['14.02', -9], [], [5, '11.03'], ['11.03', 5]]\n",
        "for val in test_data:\n",
        "    res = check_input(val)\n",
        "    print(f'{val=} - {res}')"
      ],
      "metadata": {
        "colab": {
          "base_uri": "https://localhost:8080/"
        },
        "id": "enz6Kp5qD3wk",
        "outputId": "82b83d2e-e139-47fb-9d2d-045a0de5e796"
      },
      "execution_count": 8,
      "outputs": [
        {
          "output_type": "stream",
          "name": "stdout",
          "text": [
            "val=['11', 8] - False\n",
            "val=['14.02', -9] - False\n",
            "val=[] - False\n",
            "val=[5, '11.03'] - False\n",
            "val=['11.03', 5] - True\n"
          ]
        }
      ]
    },
    {
      "cell_type": "code",
      "source": [
        "print(calculate_time(['11.03', 5]))"
      ],
      "metadata": {
        "colab": {
          "base_uri": "https://localhost:8080/"
        },
        "id": "aq-MXxhMFww7",
        "outputId": "060f6866-d324-4153-bedd-c4edbdb59924"
      },
      "execution_count": 5,
      "outputs": [
        {
          "output_type": "stream",
          "name": "stdout",
          "text": [
            "16.08\n"
          ]
        }
      ]
    },
    {
      "cell_type": "code",
      "source": [
        "main([['11', 8], ['14.02', -9], [], [5, '11.03'], ['11.03', 5]])"
      ],
      "metadata": {
        "colab": {
          "base_uri": "https://localhost:8080/"
        },
        "id": "xovFJ8WHNUt_",
        "outputId": "7665c2b6-dae2-4cd9-be82-aacd1619c04c"
      },
      "execution_count": 7,
      "outputs": [
        {
          "output_type": "stream",
          "name": "stdout",
          "text": [
            "16.08\n"
          ]
        }
      ]
    }
  ]
}