{
  "nbformat": 4,
  "nbformat_minor": 0,
  "metadata": {
    "colab": {
      "provenance": [],
      "authorship_tag": "ABX9TyNWp8zJ6qbnVG+9V9a5i1wv",
      "include_colab_link": true
    },
    "kernelspec": {
      "name": "python3",
      "display_name": "Python 3"
    },
    "language_info": {
      "name": "python"
    }
  },
  "cells": [
    {
      "cell_type": "markdown",
      "metadata": {
        "id": "view-in-github",
        "colab_type": "text"
      },
      "source": [
        "<a href=\"https://colab.research.google.com/github/FormulaitPythonMarketing/topic_7/blob/main/var_1_gen_ladder.ipynb\" target=\"_parent\"><img src=\"https://colab.research.google.com/assets/colab-badge.svg\" alt=\"Open In Colab\"/></a>"
      ]
    },
    {
      "cell_type": "code",
      "source": [
        "from typing import List, Any\n",
        "import random\n",
        "\n",
        "\n",
        "def check_input(input_data: List[Any]) -> bool:\n",
        "    if not isinstance(input_data, list):\n",
        "        return False\n",
        "\n",
        "    if len(input_data) != 2:\n",
        "        return False\n",
        "\n",
        "    A = input_data[0]\n",
        "    B = input_data[1]\n",
        "\n",
        "    if not (isinstance(A, int) and isinstance(B, int)):\n",
        "        return False\n",
        "\n",
        "    if (A < B) and (A > 0):\n",
        "        return True\n",
        "\n",
        "    return False\n"
      ],
      "metadata": {
        "id": "qepWYKdXyi_-"
      },
      "execution_count": null,
      "outputs": []
    },
    {
      "cell_type": "code",
      "source": [
        "def get_ladder(valid_list: List[int]) -> List[str]:\n",
        "    A = valid_list[0]\n",
        "    B = valid_list[1]\n",
        "    # N = 3\n",
        "    N = random.randint(A, B)\n",
        "    sign = '*'\n",
        "    result = []\n",
        "\n",
        "    while B >= N:\n",
        "        tmp = sign * B\n",
        "        B -= 1\n",
        "        result.append(tmp)\n",
        "\n",
        "    while A <= N:\n",
        "        tmp = sign * A\n",
        "        A += 1\n",
        "        result.append(tmp)\n",
        "\n",
        "    return result"
      ],
      "metadata": {
        "id": "lzANmjb0Au5d"
      },
      "execution_count": null,
      "outputs": []
    },
    {
      "cell_type": "code",
      "source": [
        "def main(input_list: List[List[Any]]) -> None:\n",
        "    valid_list = []\n",
        "    for val in input_list:\n",
        "        if check_input(val):\n",
        "            valid_list = val\n",
        "            break\n",
        "    result = get_ladder(valid_list)\n",
        "\n",
        "    # for val in result:\n",
        "    #     print(val)\n",
        "\n",
        "    result = '\\n'.join(result)\n",
        "    print(result)"
      ],
      "metadata": {
        "id": "hJRRy9DiAusy"
      },
      "execution_count": null,
      "outputs": []
    },
    {
      "cell_type": "code",
      "source": [
        "data_check_valid = [[1], ['1', '2'], [3, '33'], ['a', \"word\"], [1, 6], [15, 2], [1.1, 1.5], [-2, 0]]\n",
        "for val in data_check_valid:\n",
        "    res = check_input(val)\n",
        "    print(f'{val=} - {res}')"
      ],
      "metadata": {
        "colab": {
          "base_uri": "https://localhost:8080/"
        },
        "id": "Ub4vFvGB77x4",
        "outputId": "69bd49a2-82b0-4bb9-ed4e-05a9a5d28e55"
      },
      "execution_count": null,
      "outputs": [
        {
          "output_type": "stream",
          "name": "stdout",
          "text": [
            "val=[1] - False\n",
            "val=['1', '2'] - False\n",
            "val=[3, '33'] - False\n",
            "val=['a', 'word'] - False\n",
            "val=[1, 6] - True\n",
            "val=[15, 2] - False\n",
            "val=[1.1, 1.5] - False\n",
            "val=[-2, 0] - False\n"
          ]
        }
      ]
    },
    {
      "cell_type": "code",
      "source": [
        "test_data = [[0, 4, 8], ['a', -0], [1, 5]]\n",
        "main(input_list=test_data)"
      ],
      "metadata": {
        "id": "po9s5AKW40u0",
        "colab": {
          "base_uri": "https://localhost:8080/"
        },
        "outputId": "5d129076-6738-403c-d75f-8800a4401224"
      },
      "execution_count": null,
      "outputs": [
        {
          "output_type": "stream",
          "name": "stdout",
          "text": [
            "*****\n",
            "****\n",
            "***\n",
            "**\n",
            "*\n",
            "*\n",
            "*****\n",
            "****\n",
            "***\n",
            "**\n",
            "*\n",
            "*\n"
          ]
        }
      ]
    },
    {
      "cell_type": "code",
      "source": [
        "\n"
      ],
      "metadata": {
        "id": "bv5FpD-8cc0K"
      },
      "execution_count": null,
      "outputs": []
    }
  ]
}