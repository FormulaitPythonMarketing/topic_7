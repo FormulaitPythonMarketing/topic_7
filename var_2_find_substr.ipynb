{
  "nbformat": 4,
  "nbformat_minor": 0,
  "metadata": {
    "colab": {
      "provenance": [],
      "authorship_tag": "ABX9TyPxLlAPnZu+scpGdDfNUWJp",
      "include_colab_link": true
    },
    "kernelspec": {
      "name": "python3",
      "display_name": "Python 3"
    },
    "language_info": {
      "name": "python"
    }
  },
  "cells": [
    {
      "cell_type": "markdown",
      "metadata": {
        "id": "view-in-github",
        "colab_type": "text"
      },
      "source": [
        "<a href=\"https://colab.research.google.com/github/FormulaitPythonMarketing/topic_7/blob/main/var_2_find_substr.ipynb\" target=\"_parent\"><img src=\"https://colab.research.google.com/assets/colab-badge.svg\" alt=\"Open In Colab\"/></a>"
      ]
    },
    {
      "cell_type": "code",
      "source": [
        "from typing import List, Any\n",
        "\n",
        "\n",
        "def check_input(val: Any) -> bool:\n",
        "    return isinstance(val, str)"
      ],
      "metadata": {
        "id": "8r1XxG5K-M51"
      },
      "execution_count": null,
      "outputs": []
    },
    {
      "cell_type": "code",
      "source": [
        "def get_substring(val: str) -> str:\n",
        "    \"\"\"Находит первую максимальную подстроку без повторений.\"\"\"\n",
        "    tmp_str = ''\n",
        "    max_str = ''\n",
        "    for i in range(len(val)):\n",
        "        for j in range(i, len(val)):\n",
        "            if val[j] in tmp_str:\n",
        "                break\n",
        "            tmp_str = tmp_str + val[j]\n",
        "        if len(tmp_str) > len(max_str):\n",
        "            max_str = tmp_str\n",
        "        tmp_str = ''\n",
        "    return max_str\n"
      ],
      "metadata": {
        "id": "wd7308gdJ3o0"
      },
      "execution_count": null,
      "outputs": []
    },
    {
      "cell_type": "code",
      "source": [
        "def main(input_list: List[Any]) -> None:\n",
        "    valid_str = ''\n",
        "    valid_idx = -1\n",
        "    for idx in range(len(input_list)):\n",
        "        if check_input(input_list[idx]):\n",
        "            if len(input_list[idx]) > len(valid_str):\n",
        "                valid_idx = idx\n",
        "                valid_str = input_list[idx]\n",
        "\n",
        "    if valid_idx == -1:\n",
        "        print(\"-1, ''\")\n",
        "        return None\n",
        "\n",
        "    substring = get_substring(valid_str)\n",
        "    print(f\"{valid_idx}, '{substring}'\")\n"
      ],
      "metadata": {
        "id": "9IfTvRUNJ3ew"
      },
      "execution_count": null,
      "outputs": []
    },
    {
      "cell_type": "code",
      "source": [
        "test_data = [[0, 4, 8], 'abca', 7, 'aaaaa']\n",
        "main(input_list=test_data)"
      ],
      "metadata": {
        "id": "4sGHMDYG-Mfx"
      },
      "execution_count": null,
      "outputs": []
    }
  ]
}