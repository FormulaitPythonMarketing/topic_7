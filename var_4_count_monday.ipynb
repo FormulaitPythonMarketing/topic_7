{
  "nbformat": 4,
  "nbformat_minor": 0,
  "metadata": {
    "colab": {
      "provenance": [],
      "authorship_tag": "ABX9TyNWR7wOdlerLLKDla+ogJYF",
      "include_colab_link": true
    },
    "kernelspec": {
      "name": "python3",
      "display_name": "Python 3"
    },
    "language_info": {
      "name": "python"
    }
  },
  "cells": [
    {
      "cell_type": "markdown",
      "metadata": {
        "id": "view-in-github",
        "colab_type": "text"
      },
      "source": [
        "<a href=\"https://colab.research.google.com/github/FormulaitPythonMarketing/topic_7/blob/main/var_4_count_monday.ipynb\" target=\"_parent\"><img src=\"https://colab.research.google.com/assets/colab-badge.svg\" alt=\"Open In Colab\"/></a>"
      ]
    },
    {
      "cell_type": "code",
      "execution_count": null,
      "metadata": {
        "id": "CX701MyOYtdZ"
      },
      "outputs": [],
      "source": [
        "import datetime\n",
        "\n",
        "\n",
        "def check_input(val):\n",
        "    \"\"\"Проверяем что переданное значение можно преобразовать в дату.\"\"\"\n",
        "    try:\n",
        "        datetime.datetime.strptime(val, '%Y.%m.%d')\n",
        "        return True\n",
        "    except:\n",
        "        return False"
      ]
    },
    {
      "cell_type": "code",
      "source": [
        "def count_mondays(valid_date):\n",
        "    valid_date = datetime.datetime.strptime(valid_date, '%Y.%m.%d').date()\n",
        "    current_date = datetime.datetime.now().date()\n",
        "    count = 0\n",
        "    monday = 0\n",
        "    if valid_date > current_date:\n",
        "        date_1 = current_date\n",
        "        date_2 = valid_date\n",
        "    else:\n",
        "        date_1 = valid_date\n",
        "        date_2 = current_date\n",
        "    delta_days = (date_2 - date_1).days + 1\n",
        "\n",
        "    for i in range(delta_days):\n",
        "        if date_1.weekday() == monday:\n",
        "            count += 1\n",
        "        date_1 = date_1 + datetime.timedelta(days=1)\n",
        "\n",
        "    return count"
      ],
      "metadata": {
        "id": "7MW_Ug6fKQo4"
      },
      "execution_count": null,
      "outputs": []
    },
    {
      "cell_type": "code",
      "source": [
        "def main(input_list):\n",
        "    valid_date = ''\n",
        "    for val in input_list:\n",
        "        if check_input(val):\n",
        "            valid_date = val\n",
        "            break\n",
        "\n",
        "    mondays = count_mondays(valid_date)\n",
        "    print(mondays)"
      ],
      "metadata": {
        "id": "v8qofcvqKQem"
      },
      "execution_count": null,
      "outputs": []
    },
    {
      "cell_type": "code",
      "source": [
        "test_data = ['11-06-15', '2001.40.40', '2023.06.22', 5, 'string']\n",
        "main(['11-06-15', '2001.40.40', '2023.06.22', 5, 'string'])"
      ],
      "metadata": {
        "id": "tAylmaq7sQol"
      },
      "execution_count": null,
      "outputs": []
    }
  ]
}